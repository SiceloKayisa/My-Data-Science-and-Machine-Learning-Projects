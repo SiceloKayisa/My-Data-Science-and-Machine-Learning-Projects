{
 "cells": [
  {
   "cell_type": "markdown",
   "id": "28d0a5e3",
   "metadata": {},
   "source": [
    "## Movie Rental Duration Prediction\n",
    "This Jupyter Notebook demonstrates a machine learning project to predict the duration of movie rentals. The project uses three different regression models: Lasso Regression, Ordinary Least Squares (OLS) Regression, and a Random Forest Regressor. The goal is to compare their performance and identify the best model for this prediction task."
   ]
  },
  {
   "cell_type": "markdown",
   "id": "019a636e",
   "metadata": {},
   "source": [
    "### Project Description 💡\n",
    "Time to put your regression knowledge to the test! A DVD rental company has approached you to make a regression model which will help predict the number of days a customer rents a DVD. The model will hopefully make their inventory planning much more efficient. You decide to help them by running some regression models and recommending the best-performing model to the company.\n"
   ]
  },
  {
   "cell_type": "markdown",
   "id": "e67d0c8c",
   "metadata": {},
   "source": [
    "#### 1. Loading libraries 🛠️"
   ]
  },
  {
   "cell_type": "code",
   "execution_count": 2,
   "id": "86ebda51",
   "metadata": {},
   "outputs": [],
   "source": [
    "import pandas as pd                                        # For data manipulation purposes\n",
    "import numpy as np                                         # Since we will be working data arrays\n",
    "import matplotlib.pyplot as plt                            # For data visualization purposes\n",
    "\n",
    "from sklearn.model_selection import train_test_split        # For spliting and training our data\n",
    "\n",
    "from sklearn.metrics import mean_squared_error               # We will use this for the evaluation score\n",
    "\n",
    "from sklearn.linear_model import Lasso, LinearRegression    # Loading the algorithms we will use \n",
    "from sklearn.ensemble import RandomForestRegressor\n",
    "\n",
    "\n",
    "from sklearn.model_selection import RandomizedSearchCV        # For cross validation purposes        "
   ]
  },
  {
   "cell_type": "markdown",
   "id": "ab3dc4b2",
   "metadata": {},
   "source": [
    "#### 2. Exploratory Data Analysis"
   ]
  },
  {
   "cell_type": "code",
   "execution_count": 55,
   "id": "4f666eea",
   "metadata": {},
   "outputs": [],
   "source": [
    "df_rental = pd.read_csv(\"rental_info.csv\")"
   ]
  },
  {
   "cell_type": "code",
   "execution_count": 56,
   "id": "9d16b33c",
   "metadata": {},
   "outputs": [
    {
     "data": {
      "text/plain": [
       "(15861, 15)"
      ]
     },
     "execution_count": 56,
     "metadata": {},
     "output_type": "execute_result"
    }
   ],
   "source": [
    "df_rental.shape"
   ]
  },
  {
   "cell_type": "code",
   "execution_count": 57,
   "id": "5a1d8fbd",
   "metadata": {},
   "outputs": [
    {
     "data": {
      "text/plain": [
       "Index(['rental_date', 'return_date', 'amount', 'release_year', 'rental_rate',\n",
       "       'length', 'replacement_cost', 'special_features', 'NC-17', 'PG',\n",
       "       'PG-13', 'R', 'amount_2', 'length_2', 'rental_rate_2'],\n",
       "      dtype='object')"
      ]
     },
     "execution_count": 57,
     "metadata": {},
     "output_type": "execute_result"
    }
   ],
   "source": [
    "df_rental.columns"
   ]
  },
  {
   "cell_type": "markdown",
   "id": "0ad64f81",
   "metadata": {},
   "source": [
    "- The rental data contains 15861 rows and 15 features\n",
    "- The features of the data are :\n",
    "    `rental_date`\n",
    "    `return_date`,\n",
    "    `amount`, \n",
    "    `release_year`, \n",
    "    `rental_rate`,\n",
    "    `length` \n",
    "    `replacement_cost`,\n",
    "    `special_features`,\n",
    "    `NC-17`, \n",
    "    `PG`,\n",
    "    `PG-13`,\n",
    "    `R`, \n",
    "    `amount_2`, \n",
    "    `length_2`,\n",
    "    `rental_rate_2`\n",
    "    \n",
    "- The column of interest is not currently available in our data, which means we will have to create it\n",
    "    "
   ]
  },
  {
   "cell_type": "markdown",
   "id": "bd0060e5",
   "metadata": {},
   "source": [
    "We calculate the rental duration in days by subtracting the rental_date from the return_date. \n",
    "This new column, rental_length_days, will be our target variable (y)\n"
   ]
  },
  {
   "cell_type": "code",
   "execution_count": 58,
   "id": "8bf7b7c3",
   "metadata": {},
   "outputs": [
    {
     "data": {
      "text/plain": [
       "Index(['rental_date', 'return_date', 'amount', 'release_year', 'rental_rate',\n",
       "       'length', 'replacement_cost', 'special_features', 'NC-17', 'PG',\n",
       "       'PG-13', 'R', 'amount_2', 'length_2', 'rental_rate_2', 'rental_length',\n",
       "       'rental_length_days'],\n",
       "      dtype='object')"
      ]
     },
     "execution_count": 58,
     "metadata": {},
     "output_type": "execute_result"
    }
   ],
   "source": [
    "# Add information on rental duration\n",
    "df_rental[\"rental_length\"] = pd.to_datetime(df_rental[\"return_date\"]) - pd.to_datetime(df_rental[\"rental_date\"])\n",
    "df_rental[\"rental_length_days\"] = df_rental[\"rental_length\"].dt.days\n",
    "\n",
    "df_rental.columns"
   ]
  },
  {
   "cell_type": "code",
   "execution_count": 59,
   "id": "594b43dd",
   "metadata": {},
   "outputs": [
    {
     "data": {
      "text/html": [
       "<div>\n",
       "<style scoped>\n",
       "    .dataframe tbody tr th:only-of-type {\n",
       "        vertical-align: middle;\n",
       "    }\n",
       "\n",
       "    .dataframe tbody tr th {\n",
       "        vertical-align: top;\n",
       "    }\n",
       "\n",
       "    .dataframe thead th {\n",
       "        text-align: right;\n",
       "    }\n",
       "</style>\n",
       "<table border=\"1\" class=\"dataframe\">\n",
       "  <thead>\n",
       "    <tr style=\"text-align: right;\">\n",
       "      <th></th>\n",
       "      <th>rental_length_days</th>\n",
       "    </tr>\n",
       "    <tr>\n",
       "      <th>release_year</th>\n",
       "      <th></th>\n",
       "    </tr>\n",
       "  </thead>\n",
       "  <tbody>\n",
       "    <tr>\n",
       "      <th>2004.0</th>\n",
       "      <td>11872</td>\n",
       "    </tr>\n",
       "    <tr>\n",
       "      <th>2005.0</th>\n",
       "      <td>9505</td>\n",
       "    </tr>\n",
       "    <tr>\n",
       "      <th>2006.0</th>\n",
       "      <td>11260</td>\n",
       "    </tr>\n",
       "    <tr>\n",
       "      <th>2007.0</th>\n",
       "      <td>11029</td>\n",
       "    </tr>\n",
       "    <tr>\n",
       "      <th>2008.0</th>\n",
       "      <td>8065</td>\n",
       "    </tr>\n",
       "    <tr>\n",
       "      <th>2009.0</th>\n",
       "      <td>9976</td>\n",
       "    </tr>\n",
       "    <tr>\n",
       "      <th>2010.0</th>\n",
       "      <td>10079</td>\n",
       "    </tr>\n",
       "  </tbody>\n",
       "</table>\n",
       "</div>"
      ],
      "text/plain": [
       "              rental_length_days\n",
       "release_year                    \n",
       "2004.0                     11872\n",
       "2005.0                      9505\n",
       "2006.0                     11260\n",
       "2007.0                     11029\n",
       "2008.0                      8065\n",
       "2009.0                      9976\n",
       "2010.0                     10079"
      ]
     },
     "execution_count": 59,
     "metadata": {},
     "output_type": "execute_result"
    }
   ],
   "source": [
    "df_rental[\"release_year\"] = df_rental[\"release_year\"].astype(\"string\")\n",
    "\n",
    "movies_by_year = df_rental.groupby('release_year').agg({'rental_length_days': 'sum'})\n",
    "\n",
    "movies_by_year"
   ]
  },
  {
   "cell_type": "markdown",
   "id": "19d58c73",
   "metadata": {},
   "source": [
    "- From the above we can see that the movies that were released in 2004 have the highest rental duration followed by the movies released in 2006 and 2007"
   ]
  },
  {
   "cell_type": "markdown",
   "id": "4e506148",
   "metadata": {},
   "source": [
    "#### 2. Data Preparation and Feature Engineering 🛠️\n",
    "We perform some feature engineering to prepare the data for our models.\n",
    "\n",
    "- We create two dummy variables (deleted_scenes and behind_the_scenes) from the special_features column to capture the presence of these features.\n",
    "\n",
    "- We then split the data into training and testing sets, with 80% of the data used for training and 20% for testing."
   ]
  },
  {
   "cell_type": "code",
   "execution_count": 60,
   "id": "6d671120",
   "metadata": {},
   "outputs": [
    {
     "name": "stdout",
     "output_type": "stream",
     "text": [
      "Data preparation complete.\n"
     ]
    }
   ],
   "source": [
    "# Add dummy variables\n",
    "# Add dummy for deleted scenes\n",
    "df_rental[\"deleted_scenes\"] = np.where(df_rental[\"special_features\"].str.contains(\"Deleted Scenes\"), 1, 0)\n",
    "# Add dummy for behind the scenes\n",
    "df_rental[\"behind_the_scenes\"] = np.where(df_rental[\"special_features\"].str.contains(\"Behind the Scenes\"), 1, 0)\n",
    "\n",
    "# Choose columns to drop\n",
    "cols_to_drop = [\"special_features\", \"rental_length\", \"rental_length_days\", \"rental_date\", \"return_date\"]\n",
    "\n",
    "# Split into feature and target sets\n",
    "X = df_rental.drop(cols_to_drop, axis=1)\n",
    "y = df_rental[\"rental_length_days\"]\n",
    "\n",
    "# Further split into training and test data\n",
    "X_train,X_test,y_train,y_test = train_test_split(X,y,\n",
    "                                                test_size=0.2,\n",
    "                                                random_state=9)\n",
    "\n",
    "print(\"Data preparation complete.\")"
   ]
  },
  {
   "cell_type": "markdown",
   "id": "4bdee084",
   "metadata": {},
   "source": [
    "#### 3. Model Building \n",
    "\n",
    "####  Lasso and OLS Regression 📏\n",
    "First, we use Lasso Regression for feature selection. Lasso adds a penalty to the size of the coefficients, which helps in identifying the most important features by shrinking the coefficients of less important features to zero.\n",
    "\n",
    "- We train a Lasso model with alpha=0.3 and then select only the features with a positive coefficient.\n",
    "\n",
    "- Next, we train a simple OLS Regression model on this reduced set of features.\n",
    "\n",
    "- The performance of this combined approach is evaluated using the Mean Squared Error (MSE)."
   ]
  },
  {
   "cell_type": "code",
   "execution_count": 61,
   "id": "5d2f7f33",
   "metadata": {},
   "outputs": [
    {
     "name": "stdout",
     "output_type": "stream",
     "text": [
      "Lasso and OLS model MSE: 4.812297241276237\n"
     ]
    }
   ],
   "source": [
    "# Create the Lasso model\n",
    "lasso = Lasso(alpha=0.3, random_state=9)\n",
    "\n",
    "# Train the model and access the coefficients\n",
    "lasso.fit(X_train, y_train)\n",
    "lasso_coef = lasso.coef_\n",
    "\n",
    "# Perform feature selection by choosing columns with positive coefficients\n",
    "X_lasso_train, X_lasso_test = X_train.iloc[:, lasso_coef > 0], X_test.iloc[:, lasso_coef > 0]\n",
    "\n",
    "# Run OLS models on lasso chosen regression\n",
    "ols = LinearRegression()\n",
    "ols.fit(X_lasso_train, y_train)\n",
    "y_test_pred = ols.predict(X_lasso_test)\n",
    "mse_lin_reg_lasso = mean_squared_error(y_test, y_test_pred)\n",
    "\n",
    "print(f\"Lasso and OLS model MSE: {mse_lin_reg_lasso}\")"
   ]
  },
  {
   "cell_type": "markdown",
   "id": "00961580",
   "metadata": {},
   "source": [
    "#### Random Forest Regression 🌳\n",
    "Next, we train a Random Forest Regressor, a powerful ensemble model that combines multiple decision trees to improve prediction accuracy.\n",
    "\n",
    "- To find the best configuration, we use Randomized Search Cross-Validation to tune the model's hyperparameters, specifically n_estimators (number of trees) and max_depth (the maximum depth of each tree).\n",
    "\n",
    "- After identifying the best hyperparameters, we train the final Random Forest model and calculate its Mean Squared Error (MSE) on the test set."
   ]
  },
  {
   "cell_type": "code",
   "execution_count": 62,
   "id": "c3844b99",
   "metadata": {},
   "outputs": [
    {
     "name": "stdout",
     "output_type": "stream",
     "text": [
      "Random Forest model MSE: 2.225667528098759\n",
      "Best hyperparameters found: {'n_estimators': 51, 'max_depth': 10}\n"
     ]
    }
   ],
   "source": [
    "# Random forest hyperparameter space\n",
    "param_dist = {'n_estimators': np.arange(1, 101, 1),\n",
    "              'max_depth': np.arange(1, 11, 1)}\n",
    "\n",
    "# Create a random forest regressor\n",
    "rf = RandomForestRegressor(random_state=9)\n",
    "\n",
    "# Use random search to find the best hyperparameters\n",
    "rand_search = RandomizedSearchCV(rf,\n",
    "                                 param_distributions=param_dist,\n",
    "                                 cv=5,\n",
    "                                 random_state=9)\n",
    "\n",
    "# Fit the random search object to the data\n",
    "rand_search.fit(X_train, y_train)\n",
    "\n",
    "# Create a variable for the best hyper param\n",
    "hyper_params = rand_search.best_params_\n",
    "\n",
    "# Run the random forest on the chosen hyper parameters\n",
    "rf = RandomForestRegressor(n_estimators=hyper_params[\"n_estimators\"],\n",
    "                             max_depth=hyper_params[\"max_depth\"],\n",
    "                             random_state=9)\n",
    "rf.fit(X_train, y_train)\n",
    "rf_pred = rf.predict(X_test)\n",
    "mse_random_forest = mean_squared_error(y_test, rf_pred)\n",
    "\n",
    "print(f\"Random Forest model MSE: {mse_random_forest}\")\n",
    "print(f\"Best hyperparameters found: {hyper_params}\")"
   ]
  },
  {
   "cell_type": "markdown",
   "id": "7890258d",
   "metadata": {},
   "source": [
    "#### 4. Model Comparison and Conclusion ✅\n",
    "Finally, we compare the performance of the two approaches based on their MSE scores. The model with the lower MSE is considered the better-performing model."
   ]
  },
  {
   "cell_type": "code",
   "execution_count": 6,
   "id": "8ad72f2d",
   "metadata": {},
   "outputs": [
    {
     "name": "stdout",
     "output_type": "stream",
     "text": [
      "The best model is the Random Forest Regressor with an MSE of 2.226.\n"
     ]
    }
   ],
   "source": [
    "# Compare the MSE scores\n",
    "if mse_random_forest < mse_lin_reg_lasso:\n",
    "    best_model = \"Random Forest Regressor\"\n",
    "    best_mse = mse_random_forest\n",
    "else:\n",
    "    best_model = \"Lasso + OLS Regression\"\n",
    "    best_mse = mse_lin_reg_lasso\n",
    "\n",
    "print(f\"The best model is the {best_model} with an MSE of {round(best_mse, 3)}.\")"
   ]
  },
  {
   "cell_type": "markdown",
   "id": "f5fb74f1",
   "metadata": {},
   "source": [
    "### Future Enhancements 💡\n",
    "\n",
    "- Explore more advanced feature engineering, such as incorporating movie genres, audience ratings, or director information.\n",
    "\n",
    "- Experiment with other regression models (e.g., Gradient Boosting, XGBoost, Support Vector Regressor).\n",
    "\n",
    "- Perform more extensive hyperparameter tuning using GridSearchCV if computational resources allow.\n",
    "\n",
    "- Implement cross-validation more broadly across all models for a more robust evaluation.\n",
    "\n",
    "- Visualize the residuals and actual vs. predicted values to gain deeper insights into model performance."
   ]
  },
  {
   "cell_type": "code",
   "execution_count": null,
   "id": "b1a6a6d1",
   "metadata": {},
   "outputs": [],
   "source": []
  }
 ],
 "metadata": {
  "kernelspec": {
   "display_name": "Python 3 (ipykernel)",
   "language": "python",
   "name": "python3"
  },
  "language_info": {
   "codemirror_mode": {
    "name": "ipython",
    "version": 3
   },
   "file_extension": ".py",
   "mimetype": "text/x-python",
   "name": "python",
   "nbconvert_exporter": "python",
   "pygments_lexer": "ipython3",
   "version": "3.9.12"
  }
 },
 "nbformat": 4,
 "nbformat_minor": 5
}
